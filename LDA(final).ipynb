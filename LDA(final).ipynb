{
  "nbformat": 4,
  "nbformat_minor": 0,
  "metadata": {
    "colab": {
      "provenance": [],
      "collapsed_sections": [],
      "include_colab_link": true
    },
    "kernelspec": {
      "name": "python3",
      "display_name": "Python 3"
    },
    "language_info": {
      "name": "python"
    }
  },
  "cells": [
    {
      "cell_type": "markdown",
      "metadata": {
        "id": "view-in-github",
        "colab_type": "text"
      },
      "source": [
        "<a href=\"https://colab.research.google.com/github/ShangZheTsai/NYUST-ML-final/blob/main/LDA(final).ipynb\" target=\"_parent\"><img src=\"https://colab.research.google.com/assets/colab-badge.svg\" alt=\"Open In Colab\"/></a>"
      ]
    },
    {
      "cell_type": "code",
      "source": [
        "from google.colab import drive\n",
        "drive.mount('/content/drive')"
      ],
      "metadata": {
        "colab": {
          "base_uri": "https://localhost:8080/"
        },
        "id": "XgTEJBtogOFT",
        "outputId": "22ecfe05-a160-4a8a-c491-ebd6cb2c7517"
      },
      "execution_count": null,
      "outputs": [
        {
          "output_type": "stream",
          "name": "stdout",
          "text": [
            "Mounted at /content/drive\n"
          ]
        }
      ]
    },
    {
      "cell_type": "code",
      "source": [
        "import pandas as pd\n",
        "heart =pd.read_csv('/content/drive/MyDrive/final project/heart.csv')"
      ],
      "metadata": {
        "id": "cY_WiH4igP3_"
      },
      "execution_count": null,
      "outputs": []
    },
    {
      "cell_type": "code",
      "source": [
        "import numpy as np\n",
        "import matplotlib.pyplot as plt"
      ],
      "metadata": {
        "id": "4tk7-nlb3-SQ"
      },
      "execution_count": null,
      "outputs": []
    },
    {
      "cell_type": "code",
      "source": [
        "from sklearn.model_selection import train_test_split\n",
        "\n",
        "X, y = heart.iloc[:, :-1].values, heart.iloc[:, -1].values\n",
        "X_train, X_test, y_train, y_test =train_test_split(X, y, test_size=0.25, random_state=1)"
      ],
      "metadata": {
        "id": "S5m6CV_AOnlM"
      },
      "execution_count": null,
      "outputs": []
    },
    {
      "cell_type": "code",
      "source": [
        "X_train[:, :]"
      ],
      "metadata": {
        "colab": {
          "base_uri": "https://localhost:8080/"
        },
        "id": "Cyg_YN5uTtBU",
        "outputId": "aa4cb5be-042f-4d86-debe-4c7e580c2a12"
      },
      "execution_count": null,
      "outputs": [
        {
          "output_type": "execute_result",
          "data": {
            "text/plain": [
              "array([[56.,  1.,  2., ...,  1.,  1.,  1.],\n",
              "       [54.,  1.,  0., ...,  1.,  1.,  3.],\n",
              "       [63.,  1.,  0., ...,  1.,  1.,  3.],\n",
              "       ...,\n",
              "       [29.,  1.,  1., ...,  2.,  0.,  2.],\n",
              "       [51.,  1.,  0., ...,  2.,  0.,  3.],\n",
              "       [54.,  1.,  2., ...,  2.,  0.,  3.]])"
            ]
          },
          "metadata": {},
          "execution_count": 5
        }
      ]
    },
    {
      "cell_type": "code",
      "source": [
        "y_train[0:]"
      ],
      "metadata": {
        "colab": {
          "base_uri": "https://localhost:8080/"
        },
        "id": "i0y14GhwS_Am",
        "outputId": "44743296-370b-49d4-f648-4ad5db0aa06d"
      },
      "execution_count": null,
      "outputs": [
        {
          "output_type": "execute_result",
          "data": {
            "text/plain": [
              "array([0, 0, 0, 1, 1, 1, 0, 1, 1, 1, 1, 1, 1, 0, 0, 1, 0, 0, 1, 0, 0, 0,\n",
              "       1, 1, 1, 0, 0, 1, 0, 1, 0, 0, 1, 1, 0, 0, 1, 1, 0, 1, 0, 1, 0, 0,\n",
              "       0, 1, 0, 1, 1, 0, 0, 1, 0, 1, 1, 0, 1, 0, 0, 1, 0, 1, 0, 0, 1, 0,\n",
              "       0, 1, 1, 1, 1, 1, 1, 1, 0, 1, 0, 1, 0, 1, 0, 1, 0, 1, 1, 0, 0, 1,\n",
              "       0, 1, 0, 0, 1, 0, 1, 0, 0, 1, 0, 0, 0, 0, 1, 0, 1, 1, 0, 1, 0, 1,\n",
              "       1, 1, 0, 1, 1, 0, 1, 1, 1, 0, 0, 1, 1, 0, 0, 1, 0, 1, 1, 0, 1, 0,\n",
              "       0, 1, 0, 0, 0, 0, 1, 0, 1, 0, 0, 1, 1, 0, 1, 0, 1, 1, 1, 0, 1, 0,\n",
              "       1, 1, 0, 1, 1, 0, 0, 1, 1, 0, 1, 1, 1, 1, 0, 1, 1, 0, 1, 1, 1, 1,\n",
              "       1, 0, 0, 1, 0, 1, 1, 0, 1, 0, 1, 1, 1, 1, 1, 1, 1, 1, 0, 1, 1, 1,\n",
              "       0, 0, 0, 0, 1, 1, 1, 1, 1, 0, 0, 1, 1, 1, 0, 0, 0, 0, 0, 0, 1, 1,\n",
              "       1, 1, 0, 0, 1, 0, 1])"
            ]
          },
          "metadata": {},
          "execution_count": 6
        }
      ]
    },
    {
      "cell_type": "code",
      "source": [
        "y_train.shape"
      ],
      "metadata": {
        "colab": {
          "base_uri": "https://localhost:8080/"
        },
        "id": "5MsRcVO2UCZ8",
        "outputId": "2659b660-9c15-452c-ad3e-48ef553ae0f3"
      },
      "execution_count": null,
      "outputs": [
        {
          "output_type": "execute_result",
          "data": {
            "text/plain": [
              "(227,)"
            ]
          },
          "metadata": {},
          "execution_count": 7
        }
      ]
    },
    {
      "cell_type": "code",
      "source": [
        "from sklearn.preprocessing import StandardScaler\n",
        "\n",
        "sc = StandardScaler()\n",
        "X_train_std = sc.fit_transform(X_train)\n",
        "X_test_std = sc.transform(X_test)\n",
        "X_train_std"
      ],
      "metadata": {
        "id": "GZNXJBe0Squd",
        "colab": {
          "base_uri": "https://localhost:8080/"
        },
        "outputId": "422d5c8d-097e-48be-8391-434254a2cff7"
      },
      "execution_count": null,
      "outputs": [
        {
          "output_type": "execute_result",
          "data": {
            "text/plain": [
              "array([[ 0.19302359,  0.63343079,  1.01360455, ..., -0.69770685,\n",
              "         0.28012039, -2.11374084],\n",
              "       [-0.02551185,  0.63343079, -0.95296154, ..., -0.69770685,\n",
              "         0.28012039,  1.15033515],\n",
              "       [ 0.95789763,  0.63343079, -0.95296154, ..., -0.69770685,\n",
              "         0.28012039,  1.15033515],\n",
              "       ...,\n",
              "       [-2.75720485,  0.63343079,  0.0303215 , ...,  0.95207914,\n",
              "        -0.71343162, -0.48170284],\n",
              "       [-0.35331501,  0.63343079, -0.95296154, ...,  0.95207914,\n",
              "        -0.71343162,  1.15033515],\n",
              "       [-0.02551185,  0.63343079,  1.01360455, ...,  0.95207914,\n",
              "        -0.71343162,  1.15033515]])"
            ]
          },
          "metadata": {},
          "execution_count": 8
        }
      ]
    },
    {
      "cell_type": "code",
      "source": [
        "plt.scatter(X_train_std[:,0], X_train_std[:,1])\n",
        "plt.show()"
      ],
      "metadata": {
        "colab": {
          "base_uri": "https://localhost:8080/",
          "height": 265
        },
        "id": "aWom3-sBVd-M",
        "outputId": "dc078ee6-0dbb-4cf9-85ae-a9883662d029"
      },
      "execution_count": null,
      "outputs": [
        {
          "output_type": "display_data",
          "data": {
            "text/plain": [
              "<Figure size 432x288 with 1 Axes>"
            ],
            "image/png": "[encoded data removed]"
          },
          "metadata": {
            "needs_background": "light"
          }
        }
      ]
    },
    {
      "cell_type": "code",
      "source": [
        "import numpy as np\n",
        "np.set_printoptions(precision=4)\n",
        "\n",
        "mean_vecs = []\n",
        "for label in range(0, 2):\n",
        "    mean_vecs.append(np.mean(X_train_std[y_train == label], axis=0))\n",
        "    print('MV %s: %s\\n' % (label, mean_vecs[label]))"
      ],
      "metadata": {
        "colab": {
          "base_uri": "https://localhost:8080/"
        },
        "id": "IW-OHgEDh4eP",
        "outputId": "c0bedae6-835d-4996-b67c-d08b63451f71"
      },
      "execution_count": null,
      "outputs": [
        {
          "output_type": "stream",
          "name": "stdout",
          "text": [
            "MV 0: [ 0.2694  0.3113 -0.5138  0.1438  0.1443  0.0032 -0.1547 -0.4972  0.5266\n",
            "  0.4672 -0.3774  0.3959  0.2947]\n",
            "\n",
            "MV 1: [-0.2238 -0.2586  0.4268 -0.1195 -0.1198 -0.0027  0.1285  0.413  -0.4374\n",
            " -0.3881  0.3135 -0.3288 -0.2448]\n",
            "\n"
          ]
        }
      ]
    },
    {
      "cell_type": "code",
      "source": [
        "d = 13  # number of features\n",
        "S_W = np.zeros((d, d))\n",
        "for label, mv in zip(range(0, 2), mean_vecs):\n",
        "    class_scatter = np.zeros((d, d))               # scatter matrix for each class\n",
        "    for row in X_train_std[y_train == label]:\n",
        "        row, mv = row.reshape(d, 1), mv.reshape(d, 1)   # make column vectors\n",
        "        class_scatter += (row - mv).dot((row - mv).T)\n",
        "    S_W += class_scatter                      # sum class scatter matrices\n",
        "\n",
        "print('Within-class scatter matrix: %sx%s' % (S_W.shape[0], S_W.shape[1]))"
      ],
      "metadata": {
        "colab": {
          "base_uri": "https://localhost:8080/"
        },
        "id": "KymT-CLvpbix",
        "outputId": "a05702fe-5d90-4d69-8341-462df47ca619"
      },
      "execution_count": null,
      "outputs": [
        {
          "output_type": "stream",
          "name": "stdout",
          "text": [
            "Within-class scatter matrix: 13x13\n"
          ]
        }
      ]
    },
    {
      "cell_type": "code",
      "source": [
        "S_W"
      ],
      "metadata": {
        "colab": {
          "base_uri": "https://localhost:8080/"
        },
        "id": "AbyXk5W2q1cB",
        "outputId": "590fb112-070b-4218-e3b1-42db6653a9b6"
      },
      "execution_count": null,
      "outputs": [
        {
          "output_type": "execute_result",
          "data": {
            "text/plain": [
              "array([[ 2.1331e+02, -3.0998e+01,  2.1012e+01,  5.6409e+01,  2.9044e+01,\n",
              "         2.6715e+01, -1.3911e+01, -7.0139e+01,  5.1225e+00,  1.3407e+01,\n",
              "        -1.2813e+01,  4.3394e+01,  3.4612e+00],\n",
              "       [-3.0998e+01,  2.0873e+02,  1.4922e+01, -1.9004e+01, -3.4280e+01,\n",
              "        -5.2758e-02, -3.8529e+00,  2.2601e+01,  3.0233e+00,  4.3262e-01,\n",
              "         9.3348e+00,  9.0166e+00,  3.0305e+01],\n",
              "       [ 2.1012e+01,  1.4922e+01,  1.7722e+02,  4.3031e+01, -6.2427e+00,\n",
              "         3.0477e+01, -1.3560e+01,  1.7602e+01, -3.4398e+01,  1.7066e+01,\n",
              "        -9.3634e-01,  3.2102e+00, -9.8557e+00],\n",
              "       [ 5.6409e+01, -1.9004e+01,  4.3031e+01,  2.2310e+02,  3.1957e+01,\n",
              "         4.0334e+01, -1.7206e+01,  4.3178e+00,  4.3816e-01,  2.5512e+01,\n",
              "        -1.6158e+01,  2.3724e+00,  2.5985e+00],\n",
              "       [ 2.9044e+01, -3.4280e+01, -6.2427e+00,  3.1957e+01,  2.2308e+02,\n",
              "         1.6129e+01, -3.1201e+01,  1.3328e+01,  6.6577e+00,  1.4738e+00,\n",
              "         1.0949e+01,  1.9245e+01,  1.8540e+01],\n",
              "       [ 2.6715e+01, -5.2758e-02,  3.0477e+01,  4.0334e+01,  1.6129e+01,\n",
              "         2.2700e+02, -2.0027e+01, -2.2145e+00,  9.0773e+00, -2.5022e+00,\n",
              "        -3.4353e+00,  3.2413e+01, -1.5229e+01],\n",
              "       [-1.3911e+01, -3.8529e+00, -1.3560e+01, -1.7206e+01, -3.1201e+01,\n",
              "        -2.0027e+01,  2.2249e+02, -4.8483e+00, -4.0472e+00,  4.2849e+00,\n",
              "         5.9961e+00, -4.7514e+00,  2.3455e+00],\n",
              "       [-7.0139e+01,  2.2601e+01,  1.7602e+01,  4.3178e+00,  1.3328e+01,\n",
              "        -2.2145e+00, -4.8483e+00,  1.8040e+02, -3.7634e+01, -3.3474e+01,\n",
              "         4.8663e+01, -1.5054e+01,  1.3457e+01],\n",
              "       [ 5.1225e+00,  3.0233e+00, -3.4398e+01,  4.3816e-01,  6.6577e+00,\n",
              "         9.0773e+00, -4.0472e+00, -3.7634e+01,  1.7472e+02,  3.1136e+01,\n",
              "        -3.0444e+01, -5.6810e+00,  1.6554e+01],\n",
              "       [ 1.3407e+01,  4.3262e-01,  1.7066e+01,  2.5512e+01,  1.4738e+00,\n",
              "        -2.5022e+00,  4.2849e+00, -3.3474e+01,  3.1136e+01,  1.8583e+02,\n",
              "        -9.7711e+01, -7.2241e+00,  1.1576e+01],\n",
              "       [-1.2813e+01,  9.3348e+00, -9.3634e-01, -1.6158e+01,  1.0949e+01,\n",
              "        -3.4353e+00,  5.9961e+00,  4.8663e+01, -3.0444e+01, -9.7711e+01,\n",
              "         2.0015e+02,  2.0080e+01,  1.2202e+00],\n",
              "       [ 4.3394e+01,  9.0166e+00,  3.2102e+00,  2.3724e+00,  1.9245e+01,\n",
              "         3.2413e+01, -4.7514e+00, -1.5054e+01, -5.6810e+00, -7.2241e+00,\n",
              "         2.0080e+01,  1.9745e+02,  5.2459e-01],\n",
              "       [ 3.4612e+00,  3.0305e+01, -9.8557e+00,  2.5985e+00,  1.8540e+01,\n",
              "        -1.5229e+01,  2.3455e+00,  1.3457e+01,  1.6554e+01,  1.1576e+01,\n",
              "         1.2202e+00,  5.2459e-01,  2.1062e+02]])"
            ]
          },
          "metadata": {},
          "execution_count": 12
        }
      ]
    },
    {
      "cell_type": "code",
      "source": [
        "print('Class label distribution: %s' \n",
        "      % np.bincount(y_train)[0:])"
      ],
      "metadata": {
        "colab": {
          "base_uri": "https://localhost:8080/"
        },
        "id": "OczyFvdrq_r7",
        "outputId": "5fcc4050-b212-4609-eda7-b1b8526d5639"
      },
      "execution_count": null,
      "outputs": [
        {
          "output_type": "stream",
          "name": "stdout",
          "text": [
            "Class label distribution: [103 124]\n"
          ]
        }
      ]
    },
    {
      "cell_type": "code",
      "source": [
        "d = 13  # number of features\n",
        "S_W = np.zeros((d, d))\n",
        "for label, mv in zip(range(0, 2), mean_vecs):\n",
        "    class_scatter = np.cov(X_train_std[y_train == label].T)\n",
        "    S_W += class_scatter\n",
        "print('Scaled within-class scatter matrix: %sx%s' % (S_W.shape[0], S_W.shape[1]))"
      ],
      "metadata": {
        "colab": {
          "base_uri": "https://localhost:8080/"
        },
        "id": "zi2F6a4lrISE",
        "outputId": "29874e6e-15eb-4e47-bead-a382e3299535"
      },
      "execution_count": null,
      "outputs": [
        {
          "output_type": "stream",
          "name": "stdout",
          "text": [
            "Scaled within-class scatter matrix: 13x13\n"
          ]
        }
      ]
    },
    {
      "cell_type": "code",
      "source": [
        "S_W"
      ],
      "metadata": {
        "colab": {
          "base_uri": "https://localhost:8080/"
        },
        "id": "bUd6LzRqrQML",
        "outputId": "b5d0316f-0e5f-49c4-d1eb-07d3deedf7d2"
      },
      "execution_count": null,
      "outputs": [
        {
          "output_type": "execute_result",
          "data": {
            "text/plain": [
              "array([[ 1.8630e+00, -2.6395e-01,  1.9077e-01,  5.0185e-01,  2.4774e-01,\n",
              "         2.2368e-01, -1.2037e-01, -5.8608e-01,  3.6089e-02,  1.1683e-01,\n",
              "        -1.0899e-01,  3.9452e-01,  1.7020e-02],\n",
              "       [-2.6395e-01,  1.8020e+00,  1.3843e-01, -1.9813e-01, -3.1326e-01,\n",
              "        -1.7551e-02, -5.3602e-02,  1.8414e-01,  5.5597e-03, -1.6278e-03,\n",
              "         9.3685e-02,  7.2377e-02,  2.4116e-01],\n",
              "       [ 1.9077e-01,  1.3843e-01,  1.5661e+00,  3.6817e-01, -6.2245e-02,\n",
              "         2.5623e-01, -1.1021e-01,  1.7017e-01, -3.4760e-01,  1.3024e-01,\n",
              "         8.8639e-03,  1.0794e-02, -1.0399e-01],\n",
              "       [ 5.0185e-01, -1.9813e-01,  3.6817e-01,  2.0162e+00,  2.8768e-01,\n",
              "         3.6945e-01, -1.3884e-01,  3.3579e-02,  2.0831e-02,  2.2134e-01,\n",
              "        -1.5041e-01,  1.8819e-02,  2.7785e-02],\n",
              "       [ 2.4774e-01, -3.1326e-01, -6.2245e-02,  2.8768e-01,  1.9817e+00,\n",
              "         1.3508e-01, -2.5819e-01,  1.1962e-01,  7.7205e-02,  1.0207e-02,\n",
              "         9.2829e-02,  1.8018e-01,  1.7994e-01],\n",
              "       [ 2.2368e-01, -1.7551e-02,  2.5623e-01,  3.6945e-01,  1.3508e-01,\n",
              "         2.0190e+00, -1.8316e-01, -7.8236e-03,  9.1944e-02, -1.7396e-02,\n",
              "        -4.4039e-02,  2.9638e-01, -1.6626e-01],\n",
              "       [-1.2037e-01, -5.3602e-02, -1.1021e-01, -1.3884e-01, -2.5819e-01,\n",
              "        -1.8316e-01,  1.9887e+00, -5.1803e-02, -3.2376e-02,  5.8488e-02,\n",
              "         3.7553e-02, -6.2336e-02,  1.5706e-03],\n",
              "       [-5.8608e-01,  1.8414e-01,  1.7017e-01,  3.3579e-02,  1.1962e-01,\n",
              "        -7.8236e-03, -5.1803e-02,  1.6359e+00, -3.4625e-01, -3.1878e-01,\n",
              "         4.5145e-01, -1.3378e-01,  1.2278e-01],\n",
              "       [ 3.6089e-02,  5.5597e-03, -3.4760e-01,  2.0831e-02,  7.7205e-02,\n",
              "         9.1944e-02, -3.2376e-02, -3.4625e-01,  1.6125e+00,  2.9297e-01,\n",
              "        -2.8555e-01, -5.2835e-02,  1.4585e-01],\n",
              "       [ 1.1683e-01, -1.6278e-03,  1.3024e-01,  2.2134e-01,  1.0207e-02,\n",
              "        -1.7396e-02,  5.8488e-02, -3.1878e-01,  2.9297e-01,  1.7156e+00,\n",
              "        -8.9277e-01, -6.1775e-02,  9.8017e-02],\n",
              "       [-1.0899e-01,  9.3685e-02,  8.8639e-03, -1.5041e-01,  9.2829e-02,\n",
              "        -4.4039e-02,  3.7553e-02,  4.5145e-01, -2.8555e-01, -8.9277e-01,\n",
              "         1.7735e+00,  1.7881e-01,  2.5629e-02],\n",
              "       [ 3.9452e-01,  7.2377e-02,  1.0794e-02,  1.8819e-02,  1.8018e-01,\n",
              "         2.9638e-01, -6.2336e-02, -1.3378e-01, -5.2835e-02, -6.1775e-02,\n",
              "         1.7881e-01,  1.7814e+00, -1.1229e-02],\n",
              "       [ 1.7020e-02,  2.4116e-01, -1.0399e-01,  2.7785e-02,  1.7994e-01,\n",
              "        -1.6626e-01,  1.5706e-03,  1.2278e-01,  1.4585e-01,  9.8017e-02,\n",
              "         2.5629e-02, -1.1229e-02,  1.9518e+00]])"
            ]
          },
          "metadata": {},
          "execution_count": 15
        }
      ]
    },
    {
      "cell_type": "code",
      "source": [
        "mean_overall = np.mean(X_train_std, axis=0)\n",
        "d = 13  # number of features\n",
        "S_B = np.zeros((d, d))\n",
        "for i, mean_vec in enumerate(mean_vecs):\n",
        "    n = X_train[y_train == i + 1, :].shape[0]\n",
        "    mean_vec = mean_vec.reshape(d, 1)       # make column vector\n",
        "    mean_overall = mean_overall.reshape(d, 1)   # make column vector\n",
        "    S_B += n * (mean_vec - mean_overall).dot((mean_vec - mean_overall).T)\n",
        "\n",
        "print('Between-class scatter matrix: %sx%s' % (S_B.shape[0], S_B.shape[1]))"
      ],
      "metadata": {
        "colab": {
          "base_uri": "https://localhost:8080/"
        },
        "id": "F-ZKZJA6rWTH",
        "outputId": "87aef4d1-a4f2-405a-943d-3b7f8586744b"
      },
      "execution_count": null,
      "outputs": [
        {
          "output_type": "stream",
          "name": "stdout",
          "text": [
            "Between-class scatter matrix: 13x13\n"
          ]
        }
      ]
    },
    {
      "cell_type": "code",
      "source": [
        "S_B"
      ],
      "metadata": {
        "colab": {
          "base_uri": "https://localhost:8080/"
        },
        "id": "YkIOHldirbyt",
        "outputId": "5fd49489-d608-4c46-ea67-c833cc9252f5"
      },
      "execution_count": null,
      "outputs": [
        {
          "output_type": "execute_result",
          "data": {
            "text/plain": [
              "array([[ 8.9998e+00,  1.0399e+01, -1.7165e+01,  4.8046e+00,  4.8194e+00,\n",
              "         1.0682e-01, -5.1682e+00, -1.6608e+01,  1.7591e+01,  1.5609e+01,\n",
              "        -1.2606e+01,  1.3225e+01,  9.8449e+00],\n",
              "       [ 1.0399e+01,  1.2015e+01, -1.9833e+01,  5.5513e+00,  5.5684e+00,\n",
              "         1.2343e-01, -5.9715e+00, -1.9189e+01,  2.0324e+01,  1.8035e+01,\n",
              "        -1.4565e+01,  1.5280e+01,  1.1375e+01],\n",
              "       [-1.7165e+01, -1.9833e+01,  3.2738e+01, -9.1635e+00, -9.1918e+00,\n",
              "        -2.0374e-01,  9.8572e+00,  3.1676e+01, -3.3550e+01, -2.9770e+01,\n",
              "         2.4043e+01, -2.5223e+01, -1.8777e+01],\n",
              "       [ 4.8046e+00,  5.5513e+00, -9.1635e+00,  2.5649e+00,  2.5728e+00,\n",
              "         5.7028e-02, -2.7591e+00, -8.8662e+00,  9.3908e+00,  8.3329e+00,\n",
              "        -6.7298e+00,  7.0600e+00,  5.2557e+00],\n",
              "       [ 4.8194e+00,  5.5684e+00, -9.1918e+00,  2.5728e+00,  2.5808e+00,\n",
              "         5.7204e-02, -2.7676e+00, -8.8936e+00,  9.4197e+00,  8.3585e+00,\n",
              "        -6.7506e+00,  7.0818e+00,  5.2719e+00],\n",
              "       [ 1.0682e-01,  1.2343e-01, -2.0374e-01,  5.7028e-02,  5.7204e-02,\n",
              "         1.2680e-03, -6.1345e-02, -1.9713e-01,  2.0879e-01,  1.8527e-01,\n",
              "        -1.4963e-01,  1.5697e-01,  1.1686e-01],\n",
              "       [-5.1682e+00, -5.9715e+00,  9.8572e+00, -2.7591e+00, -2.7676e+00,\n",
              "        -6.1345e-02,  2.9679e+00,  9.5374e+00, -1.0102e+01, -8.9636e+00,\n",
              "         7.2392e+00, -7.5944e+00, -5.6536e+00],\n",
              "       [-1.6608e+01, -1.9189e+01,  3.1676e+01, -8.8662e+00, -8.8936e+00,\n",
              "        -1.9713e-01,  9.5374e+00,  3.0648e+01, -3.2461e+01, -2.8804e+01,\n",
              "         2.3263e+01, -2.4405e+01, -1.8168e+01],\n",
              "       [ 1.7591e+01,  2.0324e+01, -3.3550e+01,  9.3908e+00,  9.4197e+00,\n",
              "         2.0879e-01, -1.0102e+01, -3.2461e+01,  3.4382e+01,  3.0508e+01,\n",
              "        -2.4639e+01,  2.5848e+01,  1.9242e+01],\n",
              "       [ 1.5609e+01,  1.8035e+01, -2.9770e+01,  8.3329e+00,  8.3585e+00,\n",
              "         1.8527e-01, -8.9636e+00, -2.8804e+01,  3.0508e+01,  2.7072e+01,\n",
              "        -2.1864e+01,  2.2936e+01,  1.7075e+01],\n",
              "       [-1.2606e+01, -1.4565e+01,  2.4043e+01, -6.7298e+00, -6.7506e+00,\n",
              "        -1.4963e-01,  7.2392e+00,  2.3263e+01, -2.4639e+01, -2.1864e+01,\n",
              "         1.7658e+01, -1.8524e+01, -1.3790e+01],\n",
              "       [ 1.3225e+01,  1.5280e+01, -2.5223e+01,  7.0600e+00,  7.0818e+00,\n",
              "         1.5697e-01, -7.5944e+00, -2.4405e+01,  2.5848e+01,  2.2936e+01,\n",
              "        -1.8524e+01,  1.9433e+01,  1.4467e+01],\n",
              "       [ 9.8449e+00,  1.1375e+01, -1.8777e+01,  5.2557e+00,  5.2719e+00,\n",
              "         1.1686e-01, -5.6536e+00, -1.8168e+01,  1.9242e+01,  1.7075e+01,\n",
              "        -1.3790e+01,  1.4467e+01,  1.0769e+01]])"
            ]
          },
          "metadata": {},
          "execution_count": 17
        }
      ]
    },
    {
      "cell_type": "code",
      "source": [
        "print(np.linalg.matrix_rank(S_B))"
      ],
      "metadata": {
        "colab": {
          "base_uri": "https://localhost:8080/"
        },
        "id": "TBPBlMNDPh5S",
        "outputId": "87857e82-dd69-4750-971a-d5edcd1587d7"
      },
      "execution_count": null,
      "outputs": [
        {
          "output_type": "stream",
          "name": "stdout",
          "text": [
            "1\n"
          ]
        }
      ]
    },
    {
      "cell_type": "code",
      "source": [
        "np.linalg.inv(S_W).dot(S_B)"
      ],
      "metadata": {
        "colab": {
          "base_uri": "https://localhost:8080/"
        },
        "id": "GWcjYjl-6pA7",
        "outputId": "c897f8bf-4313-469d-aee8-aaa71810fa4c"
      },
      "execution_count": null,
      "outputs": [
        {
          "output_type": "execute_result",
          "data": {
            "text/plain": [
              "array([[ 1.7624e+00,  2.0363e+00, -3.3614e+00,  9.4088e-01,  9.4378e-01,\n",
              "         2.0919e-02, -1.0121e+00, -3.2524e+00,  3.4448e+00,  3.0567e+00,\n",
              "        -2.4687e+00,  2.5898e+00,  1.9279e+00],\n",
              "       [ 7.5344e+00,  8.7054e+00, -1.4370e+01,  4.0223e+00,  4.0346e+00,\n",
              "         8.9430e-02, -4.3267e+00, -1.3904e+01,  1.4726e+01,  1.3067e+01,\n",
              "        -1.0554e+01,  1.1071e+01,  8.2419e+00],\n",
              "       [-1.1171e+01, -1.2907e+01,  2.1305e+01, -5.9634e+00, -5.9818e+00,\n",
              "        -1.3259e-01,  6.4148e+00,  2.0614e+01, -2.1833e+01, -1.9374e+01,\n",
              "         1.5647e+01, -1.6414e+01, -1.2220e+01],\n",
              "       [ 3.5278e+00,  4.0761e+00, -6.7284e+00,  1.8833e+00,  1.8891e+00,\n",
              "         4.1874e-02, -2.0259e+00, -6.5101e+00,  6.8952e+00,  6.1185e+00,\n",
              "        -4.9414e+00,  5.1839e+00,  3.8591e+00],\n",
              "       [ 1.6018e+00,  1.8508e+00, -3.0551e+00,  8.5514e-01,  8.5778e-01,\n",
              "         1.9013e-02, -9.1987e-01, -2.9560e+00,  3.1309e+00,  2.7782e+00,\n",
              "        -2.2437e+00,  2.3538e+00,  1.7523e+00],\n",
              "       [-6.5148e-01, -7.5273e-01,  1.2425e+00, -3.4780e-01, -3.4887e-01,\n",
              "        -7.7328e-03,  3.7412e-01,  1.2022e+00, -1.2734e+00, -1.1299e+00,\n",
              "         9.1254e-01, -9.5731e-01, -7.1266e-01],\n",
              "       [-2.5210e+00, -2.9129e+00,  4.8083e+00, -1.3459e+00, -1.3500e+00,\n",
              "        -2.9924e-02,  1.4477e+00,  4.6523e+00, -4.9275e+00, -4.3724e+00,\n",
              "         3.5313e+00, -3.7045e+00, -2.7578e+00],\n",
              "       [-6.1726e+00, -7.1320e+00,  1.1773e+01, -3.2953e+00, -3.3054e+00,\n",
              "        -7.3267e-02,  3.5447e+00,  1.1391e+01, -1.2065e+01, -1.0706e+01,\n",
              "         8.6461e+00, -9.0703e+00, -6.7523e+00],\n",
              "       [ 5.3901e+00,  6.2278e+00, -1.0280e+01,  2.8775e+00,  2.8864e+00,\n",
              "         6.3979e-02, -3.0953e+00, -9.9468e+00,  1.0535e+01,  9.3484e+00,\n",
              "        -7.5500e+00,  7.9204e+00,  5.8963e+00],\n",
              "       [ 6.3089e+00,  7.2894e+00, -1.2033e+01,  3.3680e+00,  3.3784e+00,\n",
              "         7.4884e-02, -3.6230e+00, -1.1642e+01,  1.2331e+01,  1.0942e+01,\n",
              "        -8.8370e+00,  9.2706e+00,  6.9014e+00],\n",
              "       [-2.2001e+00, -2.5421e+00,  4.1962e+00, -1.1745e+00, -1.1782e+00,\n",
              "        -2.6115e-02,  1.2635e+00,  4.0601e+00, -4.3003e+00, -3.8158e+00,\n",
              "         3.0818e+00, -3.2330e+00, -2.4067e+00],\n",
              "       [ 6.7706e+00,  7.8228e+00, -1.2913e+01,  3.6145e+00,  3.6256e+00,\n",
              "         8.0364e-02, -3.8881e+00, -1.2494e+01,  1.3233e+01,  1.1743e+01,\n",
              "        -9.4836e+00,  9.9489e+00,  7.4064e+00],\n",
              "       [ 2.9878e+00,  3.4522e+00, -5.6986e+00,  1.5951e+00,  1.6000e+00,\n",
              "         3.5464e-02, -1.7158e+00, -5.5137e+00,  5.8399e+00,  5.1820e+00,\n",
              "        -4.1851e+00,  4.3904e+00,  3.2684e+00]])"
            ]
          },
          "metadata": {},
          "execution_count": 19
        }
      ]
    },
    {
      "cell_type": "code",
      "source": [
        "eigen_vals, eigen_vecs = np.linalg.eig(np.linalg.inv(S_W).dot(S_B))"
      ],
      "metadata": {
        "id": "MwuOhgovrgTq"
      },
      "execution_count": null,
      "outputs": []
    },
    {
      "cell_type": "code",
      "source": [
        "print(eigen_vecs)"
      ],
      "metadata": {
        "colab": {
          "base_uri": "https://localhost:8080/"
        },
        "id": "aGkYaZHE7qTS",
        "outputId": "ff6bd7c0-5d74-4109-937a-be021f4cbf06"
      },
      "execution_count": null,
      "outputs": [
        {
          "output_type": "stream",
          "name": "stdout",
          "text": [
            "[[-0.9744+0.j     -0.0913+0.j     -0.1004+0.1085j -0.1004-0.1085j\n",
            "  -0.0238-0.0009j -0.0238+0.0009j  0.5972+0.j      0.5972-0.j\n",
            "  -0.0083+0.j      0.8058+0.j      0.8058-0.j      0.8426+0.j\n",
            "   0.8863+0.j    ]\n",
            " [ 0.0881+0.j     -0.3901+0.j      0.0395+0.0037j  0.0395-0.0037j\n",
            "   0.5846+0.j      0.5846-0.j     -0.1655-0.0384j -0.1655+0.0384j\n",
            "   0.2431+0.j     -0.1075+0.0401j -0.1075-0.0401j -0.1002+0.j\n",
            "  -0.0875+0.j    ]\n",
            " [-0.1306+0.j      0.5784+0.j      0.8025+0.j      0.8025-0.j\n",
            "   0.1702+0.2244j  0.1702-0.2244j  0.3913-0.1318j  0.3913+0.1318j\n",
            "   0.4404+0.j      0.059 +0.1259j  0.059 -0.1259j  0.0594+0.j\n",
            "   0.1007+0.j    ]\n",
            " [ 0.0412+0.j     -0.1827+0.j     -0.0804+0.0057j -0.0804-0.0057j\n",
            "  -0.2055+0.1259j -0.2055-0.1259j -0.0417-0.2475j -0.0417+0.2475j\n",
            "  -0.1944+0.j     -0.2443-0.0113j -0.2443+0.0113j  0.0442+0.j\n",
            "  -0.019 +0.j    ]\n",
            " [ 0.0187+0.j     -0.0829+0.j      0.068 -0.067j   0.068 +0.067j\n",
            "   0.0212-0.0831j  0.0212+0.0831j  0.0575-0.0283j  0.0575+0.0283j\n",
            "   0.3225+0.j     -0.1738-0.3293j -0.1738+0.3293j -0.2084+0.j\n",
            "  -0.0647+0.j    ]\n",
            " [-0.0076+0.j      0.0337+0.j     -0.0313+0.0124j -0.0313-0.0124j\n",
            "  -0.0505-0.0393j -0.0505+0.0393j -0.0264+0.0379j -0.0264-0.0379j\n",
            "   0.0253+0.j      0.0234-0.0712j  0.0234+0.0712j  0.4265+0.j\n",
            "   0.4096+0.j    ]\n",
            " [-0.0295+0.j      0.1305+0.j     -0.0687-0.0431j -0.0687+0.0431j\n",
            "   0.1759-0.1004j  0.1759+0.1004j  0.1578-0.0347j  0.1578+0.0347j\n",
            "   0.3281+0.j      0.1778-0.0739j  0.1778+0.0739j  0.1568+0.j\n",
            "   0.0657+0.j    ]\n",
            " [-0.0722+0.j      0.3196+0.j     -0.0638+0.2523j -0.0638-0.2523j\n",
            "   0.1195+0.1499j  0.1195-0.1499j  0.1646+0.0784j  0.1646-0.0784j\n",
            "  -0.149 +0.j      0.0541-0.063j   0.0541+0.063j   0.037 +0.j\n",
            "   0.0599+0.j    ]\n",
            " [ 0.063 +0.j     -0.2791+0.j      0.1825+0.1564j  0.1825-0.1564j\n",
            "   0.0113-0.0344j  0.0113+0.0344j -0.0317-0.1445j -0.0317+0.1445j\n",
            "   0.0454+0.j     -0.073 -0.0717j -0.073 +0.0717j -0.0902+0.j\n",
            "  -0.0682+0.j    ]\n",
            " [ 0.0737+0.j     -0.3267+0.j      0.2788+0.0089j  0.2788-0.0089j\n",
            "   0.3076-0.2366j  0.3076+0.2366j  0.3021+0.2084j  0.3021-0.2084j\n",
            "  -0.1812+0.j      0.095 +0.0855j  0.095 -0.0855j -0.0211+0.j\n",
            "  -0.0554+0.j    ]\n",
            " [-0.0257+0.j      0.1139+0.j     -0.1224+0.0078j -0.1224-0.0078j\n",
            "   0.1143-0.291j   0.1143+0.291j   0.0656-0.0374j  0.0656+0.0374j\n",
            "   0.1377+0.j     -0.0628+0.0059j -0.0628-0.0059j -0.0363+0.j\n",
            "   0.0058+0.j    ]\n",
            " [ 0.0791+0.j     -0.3506+0.j      0.0722+0.0049j  0.0722-0.0049j\n",
            "  -0.0728+0.3109j -0.0728-0.3109j  0.3461-0.0966j  0.3461+0.0966j\n",
            "   0.0861+0.j     -0.0658+0.1001j -0.0658-0.1001j -0.0975+0.j\n",
            "  -0.0842+0.j    ]\n",
            " [ 0.0349+0.j     -0.1547+0.j      0.2899+0.0395j  0.2899-0.0395j\n",
            "  -0.1786+0.218j  -0.1786-0.218j  -0.1389+0.0686j -0.1389-0.0686j\n",
            "   0.6429+0.j     -0.1437+0.0652j -0.1437-0.0652j -0.0614+0.j\n",
            "  -0.04  +0.j    ]]\n"
          ]
        }
      ]
    },
    {
      "cell_type": "code",
      "source": [
        "# Make a list of (eigenvalue, eigenvector) tuples\n",
        "eigen_pairs = [(np.abs(eigen_vals[i]), eigen_vecs[:, i])\n",
        "for i in range(len(eigen_vals))]\n",
        "\n",
        "# Sort the (eigenvalue, eigenvector) tuples from high to low\n",
        "eigen_pairs = sorted(eigen_pairs, key=lambda k: k[0], reverse=True)\n",
        "\n",
        "# Visually confirm that the list is correctly sorted by decreasing eigenvalues\n",
        "\n",
        "print('Eigenvalues in decreasing order:\\n')\n",
        "for eigen_val in eigen_pairs:\n",
        "    print(eigen_val[0])"
      ],
      "metadata": {
        "colab": {
          "base_uri": "https://localhost:8080/"
        },
        "id": "F3ruZUqPrkBe",
        "outputId": "28bfa637-cdc0-46d6-cc39-c863df3bbaa2"
      },
      "execution_count": null,
      "outputs": [
        {
          "output_type": "stream",
          "name": "stdout",
          "text": [
            "Eigenvalues in decreasing order:\n",
            "\n",
            "85.12126814377774\n",
            "7.184100137248875e-15\n",
            "7.184100137248875e-15\n",
            "5.106942994263145e-15\n",
            "5.106942994263145e-15\n",
            "2.349544201875602e-15\n",
            "2.349544201875602e-15\n",
            "1.8120560742823275e-15\n",
            "8.803026465011154e-16\n",
            "8.803026465011154e-16\n",
            "9.097244116591103e-17\n",
            "2.943655082572297e-17\n",
            "0.0\n"
          ]
        }
      ]
    },
    {
      "cell_type": "code",
      "source": [
        "w = np.hstack((eigen_pairs[0][1][:, np.newaxis].real,\n",
        "              eigen_pairs[1][1][:, np.newaxis].real))\n",
        "print('Matrix W:\\n', w)"
      ],
      "metadata": {
        "colab": {
          "base_uri": "https://localhost:8080/"
        },
        "id": "-saRoPXvs3EJ",
        "outputId": "68803e25-9c90-418b-a9ff-d2def68cb39b"
      },
      "execution_count": null,
      "outputs": [
        {
          "output_type": "stream",
          "name": "stdout",
          "text": [
            "Matrix W:\n",
            " [[-0.0913 -0.1004]\n",
            " [-0.3901  0.0395]\n",
            " [ 0.5784  0.8025]\n",
            " [-0.1827 -0.0804]\n",
            " [-0.0829  0.068 ]\n",
            " [ 0.0337 -0.0313]\n",
            " [ 0.1305 -0.0687]\n",
            " [ 0.3196 -0.0638]\n",
            " [-0.2791  0.1825]\n",
            " [-0.3267  0.2788]\n",
            " [ 0.1139 -0.1224]\n",
            " [-0.3506  0.0722]\n",
            " [-0.1547  0.2899]]\n"
          ]
        }
      ]
    },
    {
      "cell_type": "code",
      "source": [
        "X_train_lda = X_train_std.dot(w)\n",
        "colors = ['r', 'b']\n",
        "markers = ['s', 'x']\n",
        "\n",
        "for l, c, m in zip(np.unique(y_train), colors, markers):\n",
        "    plt.scatter(X_train_lda[y_train == l, 0] * (-1),\n",
        "                X_train_lda[y_train == l, 1] * (-1),\n",
        "                c=c, label=l, marker=m)\n",
        "\n",
        "plt.xlabel('LD 1')\n",
        "plt.ylabel('LD 2')\n",
        "plt.legend(loc='lower right')\n",
        "plt.tight_layout()\n",
        "# plt.savefig('./figures/lda2.png', dpi=300)\n",
        "plt.show()"
      ],
      "metadata": {
        "colab": {
          "base_uri": "https://localhost:8080/",
          "height": 297
        },
        "id": "Cz7JPdajs84d",
        "outputId": "8b173da7-42e5-4179-8153-8cbd1e4ad930"
      },
      "execution_count": null,
      "outputs": [
        {
          "output_type": "display_data",
          "data": {
            "text/plain": [
              "<Figure size 432x288 with 1 Axes>"
            ],
            "image/png": "[encoded data removed]"
          },
          "metadata": {
            "needs_background": "light"
          }
        }
      ]
    },
    {
      "cell_type": "code",
      "source": [
        "from sklearn.linear_model import LogisticRegression\n",
        "\n",
        "lr = LogisticRegression()\n",
        "lr = lr.fit(X_train_lda, y_train)\n",
        "\n"
      ],
      "metadata": {
        "id": "EGXUR-F4tQIu"
      },
      "execution_count": null,
      "outputs": []
    },
    {
      "cell_type": "code",
      "source": [
        "X_test_lda = X_test_std.dot(w)\n",
        "from sklearn.metrics import accuracy_score, confusion_matrix\n",
        "y_true = y_test\n",
        "y_pred = lr.predict(X_test_lda)\n",
        "accuracy_score(y_true, y_pred)\n",
        "print(accuracy_score(y_true, y_pred))\n",
        "print(confusion_matrix(y_true, y_pred))"
      ],
      "metadata": {
        "colab": {
          "base_uri": "https://localhost:8080/"
        },
        "id": "T1QGr1wgtT5M",
        "outputId": "113a9d3d-3bba-4523-c53d-42923441ec2d"
      },
      "execution_count": null,
      "outputs": [
        {
          "output_type": "stream",
          "name": "stdout",
          "text": [
            "0.7631578947368421\n",
            "[[24 11]\n",
            " [ 7 34]]\n"
          ]
        }
      ]
    },
    {
      "cell_type": "code",
      "source": [
        "w1 = eigen_pairs[0][1][:, np.newaxis].real\n",
        "print('Matrix W:\\n', w1)\n",
        "\n",
        "X_train_lda = X_train_std.dot(w1)\n",
        "\n",
        "X_train_lda = np.reshape(X_train_lda, (len(X_train_lda),1))"
      ],
      "metadata": {
        "colab": {
          "base_uri": "https://localhost:8080/"
        },
        "id": "ZwaYRqTfLq5T",
        "outputId": "196a32f9-b399-4788-c803-34dab88e32dd"
      },
      "execution_count": null,
      "outputs": [
        {
          "output_type": "stream",
          "name": "stdout",
          "text": [
            "Matrix W:\n",
            " [[-0.0913]\n",
            " [-0.3901]\n",
            " [ 0.5784]\n",
            " [-0.1827]\n",
            " [-0.0829]\n",
            " [ 0.0337]\n",
            " [ 0.1305]\n",
            " [ 0.3196]\n",
            " [-0.2791]\n",
            " [-0.3267]\n",
            " [ 0.1139]\n",
            " [-0.3506]\n",
            " [-0.1547]]\n"
          ]
        }
      ]
    },
    {
      "cell_type": "code",
      "source": [
        "X_train_lda = X_train_std.dot(w1)\n",
        "colors = ['r', 'b']\n",
        "markers = ['s', 'x']\n",
        "\n",
        "for l, c, m in zip(np.unique(y_train), colors, markers):\n",
        "    plt.scatter(X_train_lda[y_train == l, 0] * (-1), np.zeros(len(X_train_lda[y_train == l, 0])),\n",
        "          c=c, label=l, marker=m)\n",
        "\n",
        "plt.xlabel('LD 1')\n",
        "plt.legend(loc='lower right')\n",
        "plt.tight_layout()\n",
        "# plt.savefig('./figures/lda2.png', dpi=300)\n",
        "plt.show()"
      ],
      "metadata": {
        "colab": {
          "base_uri": "https://localhost:8080/",
          "height": 297
        },
        "id": "tk6m_fxuMl6B",
        "outputId": "f9b65bff-4cd8-423b-b293-39bfd568b062"
      },
      "execution_count": null,
      "outputs": [
        {
          "output_type": "display_data",
          "data": {
            "text/plain": [
              "<Figure size 432x288 with 1 Axes>"
            ],
            "image/png": "[encoded data removed]"
          },
          "metadata": {
            "needs_background": "light"
          }
        }
      ]
    },
    {
      "cell_type": "code",
      "source": [
        "from sklearn.linear_model import LogisticRegression\n",
        "\n",
        "lr = LogisticRegression()\n",
        "lr = lr.fit(X_train_lda, y_train)\n",
        "\n",
        "X_test_lda = X_test_std.dot(w1)\n",
        "\n",
        "from sklearn.metrics import accuracy_score, confusion_matrix\n",
        "y_true = y_test\n",
        "y_pred = lr.predict(X_test_lda)\n",
        "print(accuracy_score(y_true, y_pred))\n",
        "print(confusion_matrix(y_true, y_pred))"
      ],
      "metadata": {
        "colab": {
          "base_uri": "https://localhost:8080/"
        },
        "id": "SYzVY2J9Sn0w",
        "outputId": "a36191e5-ed14-428b-e6ea-c8053aa96111"
      },
      "execution_count": null,
      "outputs": [
        {
          "output_type": "stream",
          "name": "stdout",
          "text": [
            "0.7631578947368421\n",
            "[[24 11]\n",
            " [ 7 34]]\n"
          ]
        }
      ]
    }
  ]
}