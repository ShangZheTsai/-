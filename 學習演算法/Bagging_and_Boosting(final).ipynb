{
  "nbformat": 4,
  "nbformat_minor": 0,
  "metadata": {
    "colab": {
      "provenance": [],
      "collapsed_sections": [],
      "include_colab_link": true
    },
    "kernelspec": {
      "name": "python3",
      "display_name": "Python 3"
    },
    "language_info": {
      "name": "python"
    }
  },
  "cells": [
    {
      "cell_type": "markdown",
      "metadata": {
        "id": "view-in-github",
        "colab_type": "text"
      },
      "source": [
        "<a href=\"https://colab.research.google.com/github/ShangZheTsai/NYUST-ML-final/blob/main/Bagging_and_Boosting(final).ipynb\" target=\"_parent\"><img src=\"https://colab.research.google.com/assets/colab-badge.svg\" alt=\"Open In Colab\"/></a>"
      ]
    },
    {
      "cell_type": "markdown",
      "source": [
        "**Bagging**"
      ],
      "metadata": {
        "id": "JOV1HdALAhB_"
      }
    },
    {
      "cell_type": "code",
      "source": [
        "from google.colab import drive\n",
        "drive.mount('/content/drive')"
      ],
      "metadata": {
        "colab": {
          "base_uri": "https://localhost:8080/"
        },
        "id": "uqnSMDW_2HIO",
        "outputId": "9d92d5b5-2dc7-4c38-c5ad-3e1b24a693df"
      },
      "execution_count": null,
      "outputs": [
        {
          "output_type": "stream",
          "name": "stdout",
          "text": [
            "Drive already mounted at /content/drive; to attempt to forcibly remount, call drive.mount(\"/content/drive\", force_remount=True).\n"
          ]
        }
      ]
    },
    {
      "cell_type": "code",
      "source": [
        "import pandas as pd\n",
        "heart =pd.read_csv('/content/drive/MyDrive/final project/heart.csv')"
      ],
      "metadata": {
        "id": "3_F6Zleq2Lwe"
      },
      "execution_count": null,
      "outputs": []
    },
    {
      "cell_type": "code",
      "source": [
        "from sklearn.model_selection import train_test_split\n",
        "\n",
        "X, y = heart.iloc[:, :-1].values, heart.iloc[:, -1].values\n",
        "X_train, X_test, y_train, y_test = train_test_split(X, y, test_size=0.25, random_state=1)\n"
      ],
      "metadata": {
        "id": "HlLY63tviK32"
      },
      "execution_count": null,
      "outputs": []
    },
    {
      "cell_type": "code",
      "source": [
        "from sklearn.preprocessing import StandardScaler\n",
        "\n",
        "stdsc = StandardScaler()\n",
        "X_train_std = stdsc.fit_transform(X_train)\n",
        "X_test_std = stdsc.transform(X_test)"
      ],
      "metadata": {
        "id": "4XxmPL6EZEQr"
      },
      "execution_count": null,
      "outputs": []
    },
    {
      "cell_type": "code",
      "source": [
        "from sklearn.ensemble import BaggingClassifier\n",
        "from sklearn.tree import DecisionTreeClassifier\n",
        "\n",
        "tree = DecisionTreeClassifier(criterion='entropy', max_depth=1, random_state=1)\n",
        "bag = BaggingClassifier(base_estimator=tree, n_estimators=500,\n",
        "             max_features=2,max_samples=0.7, n_jobs=-1, random_state=1)"
      ],
      "metadata": {
        "id": "n0EX8utziO2Z"
      },
      "execution_count": null,
      "outputs": []
    },
    {
      "cell_type": "code",
      "source": [
        "print(X_train)\n",
        "print(X_train_std)"
      ],
      "metadata": {
        "colab": {
          "base_uri": "https://localhost:8080/"
        },
        "id": "NIpXiManZ4p7",
        "outputId": "d1574e73-682f-4656-c90f-a34647c97a04"
      },
      "execution_count": null,
      "outputs": [
        {
          "output_type": "stream",
          "name": "stdout",
          "text": [
            "[[56.  1.  2. ...  1.  1.  1.]\n",
            " [54.  1.  0. ...  1.  1.  3.]\n",
            " [63.  1.  0. ...  1.  1.  3.]\n",
            " ...\n",
            " [29.  1.  1. ...  2.  0.  2.]\n",
            " [51.  1.  0. ...  2.  0.  3.]\n",
            " [54.  1.  2. ...  2.  0.  3.]]\n",
            "[[ 0.19302359  0.63343079  1.01360455 ... -0.69770685  0.28012039\n",
            "  -2.11374084]\n",
            " [-0.02551185  0.63343079 -0.95296154 ... -0.69770685  0.28012039\n",
            "   1.15033515]\n",
            " [ 0.95789763  0.63343079 -0.95296154 ... -0.69770685  0.28012039\n",
            "   1.15033515]\n",
            " ...\n",
            " [-2.75720485  0.63343079  0.0303215  ...  0.95207914 -0.71343162\n",
            "  -0.48170284]\n",
            " [-0.35331501  0.63343079 -0.95296154 ...  0.95207914 -0.71343162\n",
            "   1.15033515]\n",
            " [-0.02551185  0.63343079  1.01360455 ...  0.95207914 -0.71343162\n",
            "   1.15033515]]\n"
          ]
        }
      ]
    },
    {
      "cell_type": "code",
      "source": [
        "from sklearn.metrics import accuracy_score\n",
        "from sklearn.metrics import confusion_matrix\n",
        "\n",
        "bag = bag.fit(X_train_std, y_train)\n",
        "bag_train = bag.score(X_train_std,y_train)\n",
        "bag_test = bag.score(X_test_std, y_test) \n",
        "print('Bagging train/test accuracies %.3f/%.3f' % (bag_train, bag_test))\n",
        "\n",
        "y_pred = bag.predict(X_test_std)\n",
        "print('Misclassified examples: %d' % (y_test != y_pred).sum())\n",
        "confusion_matrix(y_test, y_pred)"
      ],
      "metadata": {
        "colab": {
          "base_uri": "https://localhost:8080/"
        },
        "id": "4GAuT7fgiRhS",
        "outputId": "07a2bd6c-0101-43e6-8151-6adddff3d63b"
      },
      "execution_count": null,
      "outputs": [
        {
          "output_type": "stream",
          "name": "stdout",
          "text": [
            "Bagging train/test accuracies 0.850/0.829\n",
            "Misclassified examples: 13\n"
          ]
        },
        {
          "output_type": "execute_result",
          "data": {
            "text/plain": [
              "array([[25, 10],\n",
              "       [ 3, 38]])"
            ]
          },
          "metadata": {},
          "execution_count": 137
        }
      ]
    },
    {
      "cell_type": "markdown",
      "source": [
        "**Boosting**"
      ],
      "metadata": {
        "id": "XIVu29iKAGYT"
      }
    },
    {
      "cell_type": "code",
      "source": [
        "from sklearn.ensemble import AdaBoostClassifier\n",
        "\n",
        "tree = DecisionTreeClassifier(criterion='entropy', max_depth=1, random_state=1)\n",
        "\n",
        "ada = AdaBoostClassifier(base_estimator=tree, n_estimators=500, learning_rate=0.01, random_state=1)\n",
        "ada = ada.fit(X_train, y_train)\n",
        "y_train_pred = xgb.predict(X_train)\n",
        "y_test_pred = xgb.predict(X_test)\n",
        "\n",
        "ada_train = accuracy_score(y_train, y_train_pred)\n",
        "ada_test = accuracy_score(y_test, y_test_pred)\n",
        "print('XGB train/test accuracies %.3f/%.3f' % (ada_train, ada_test))\n",
        "\n",
        "y_pred = ada.predict(X_test)\n",
        "print('Misclassified examples: %d' % (y_test != y_pred).sum())\n",
        "confusion_matrix(y_test, y_pred)"
      ],
      "metadata": {
        "id": "TooSS3xJNNBV",
        "colab": {
          "base_uri": "https://localhost:8080/"
        },
        "outputId": "071e65fc-44ba-42c4-a1d1-1e79281cd90f"
      },
      "execution_count": null,
      "outputs": [
        {
          "output_type": "stream",
          "name": "stdout",
          "text": [
            "XGB train/test accuracies 0.885/0.803\n",
            "Misclassified examples: 15\n"
          ]
        },
        {
          "output_type": "execute_result",
          "data": {
            "text/plain": [
              "array([[24, 11],\n",
              "       [ 4, 37]])"
            ]
          },
          "metadata": {},
          "execution_count": 138
        }
      ]
    },
    {
      "cell_type": "code",
      "source": [
        "from sklearn.ensemble import GradientBoostingClassifier\n",
        "\n",
        "xgb = GradientBoostingClassifier(n_estimators=500, learning_rate=0.01, \n",
        "                  max_depth=1, random_state=1).fit(X_train, y_train)\n",
        "\n",
        "xgb = xgb.fit(X_train, y_train)\n",
        "y_train_pred = xgb.predict(X_train)\n",
        "y_test_pred = xgb.predict(X_test)\n",
        "\n",
        "xgb_train = accuracy_score(y_train, y_train_pred)\n",
        "xgb_test = accuracy_score(y_test, y_test_pred)\n",
        "print('XGB train/test accuracies %.3f/%.3f' % (xgb_train, xgb_test))\n",
        "\n",
        "y_pred = xgb.predict(X_test)\n",
        "print('Misclassified examples: %d' % (y_test != y_pred).sum())\n",
        "confusion_matrix(y_test, y_pred)"
      ],
      "metadata": {
        "id": "wewV0NjUukaZ",
        "colab": {
          "base_uri": "https://localhost:8080/"
        },
        "outputId": "7d202688-64c4-43d0-c894-870d89910619"
      },
      "execution_count": null,
      "outputs": [
        {
          "output_type": "stream",
          "name": "stdout",
          "text": [
            "XGB train/test accuracies 0.885/0.803\n",
            "Misclassified examples: 15\n"
          ]
        },
        {
          "output_type": "execute_result",
          "data": {
            "text/plain": [
              "array([[24, 11],\n",
              "       [ 4, 37]])"
            ]
          },
          "metadata": {},
          "execution_count": 139
        }
      ]
    }
  ]
}
