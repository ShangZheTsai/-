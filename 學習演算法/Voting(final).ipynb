{
  "nbformat": 4,
  "nbformat_minor": 0,
  "metadata": {
    "colab": {
      "provenance": [],
      "collapsed_sections": [],
      "include_colab_link": true
    },
    "kernelspec": {
      "name": "python3",
      "display_name": "Python 3"
    },
    "language_info": {
      "name": "python"
    }
  },
  "cells": [
    {
      "cell_type": "markdown",
      "metadata": {
        "id": "view-in-github",
        "colab_type": "text"
      },
      "source": [
        "<a href=\"https://colab.research.google.com/github/ShangZheTsai/NYUST-ML-final/blob/main/Voting(final).ipynb\" target=\"_parent\"><img src=\"https://colab.research.google.com/assets/colab-badge.svg\" alt=\"Open In Colab\"/></a>"
      ]
    },
    {
      "cell_type": "code",
      "source": [
        "from google.colab import drive\n",
        "drive.mount('/content/drive')"
      ],
      "metadata": {
        "colab": {
          "base_uri": "https://localhost:8080/"
        },
        "id": "uqnSMDW_2HIO",
        "outputId": "b0acf121-28c2-4a0a-ffed-35633db0bf5f"
      },
      "execution_count": null,
      "outputs": [
        {
          "output_type": "stream",
          "name": "stdout",
          "text": [
            "Mounted at /content/drive\n"
          ]
        }
      ]
    },
    {
      "cell_type": "code",
      "source": [
        "import pandas as pd\n",
        "heart =pd.read_csv('/content/drive/MyDrive/final project/heart.csv')"
      ],
      "metadata": {
        "id": "3_F6Zleq2Lwe"
      },
      "execution_count": null,
      "outputs": []
    },
    {
      "cell_type": "code",
      "source": [
        "from sklearn.model_selection import train_test_split\n",
        "\n",
        "X, y = heart.iloc[:, :-1].values, heart.iloc[:, -1].values\n",
        "\n",
        "X_train, X_test, y_train, y_test = train_test_split(X, y, test_size=0.25, random_state=1)"
      ],
      "metadata": {
        "id": "fa7wIeENc98X"
      },
      "execution_count": null,
      "outputs": []
    },
    {
      "cell_type": "code",
      "source": [
        "from sklearn.ensemble import VotingClassifier\n",
        "from sklearn.linear_model import LogisticRegression\n",
        "from sklearn.svm import LinearSVC\n",
        "from sklearn.tree import DecisionTreeClassifier\n",
        "from sklearn.ensemble import RandomForestClassifier\n",
        "from sklearn.neighbors import KNeighborsClassifier \n",
        "\n",
        "model_list=[]\n",
        "\n",
        "clf1 = LogisticRegression(penalty='l1',C=1,solver='liblinear')\n",
        "model_list.append(('LR',clf1))\n",
        "clf2 = LinearSVC(C=1, loss=\"squared_hinge\", random_state=1)\n",
        "model_list.append(('SVM',clf2))\n",
        "clf3 = DecisionTreeClassifier(criterion='entropy',max_depth=3)\n",
        "model_list.append(('DT',clf3))\n",
        "clf4 = RandomForestClassifier(n_estimators=50,n_jobs = -1,random_state=1,min_samples_leaf=10)\n",
        "model_list.append(('RF',clf4))\n",
        "clf5 = KNeighborsClassifier(n_neighbors=3)\n",
        "model_list.append(('KNN',clf5))\n",
        "\n",
        "vc=VotingClassifier(model_list)\n",
        "print(model_list)"
      ],
      "metadata": {
        "colab": {
          "base_uri": "https://localhost:8080/"
        },
        "id": "tHwq6lSQdWBC",
        "outputId": "6f750728-d9b8-41be-cd1f-dcdf85a6a407"
      },
      "execution_count": null,
      "outputs": [
        {
          "output_type": "stream",
          "name": "stdout",
          "text": [
            "[('LR', LogisticRegression(C=1, penalty='l1', solver='liblinear')), ('SVM', LinearSVC(C=1, random_state=1)), ('DT', DecisionTreeClassifier(criterion='entropy', max_depth=3)), ('RF', RandomForestClassifier(min_samples_leaf=10, n_estimators=50, n_jobs=-1,\n",
            "                       random_state=1)), ('KNN', KNeighborsClassifier(n_neighbors=3))]\n"
          ]
        }
      ]
    },
    {
      "cell_type": "code",
      "source": [
        "vc.fit(X_train,y_train)"
      ],
      "metadata": {
        "colab": {
          "base_uri": "https://localhost:8080/"
        },
        "id": "98n_DcXkg7Wi",
        "outputId": "2018deb7-5858-4255-95cc-e84ea3cff683"
      },
      "execution_count": null,
      "outputs": [
        {
          "output_type": "stream",
          "name": "stderr",
          "text": [
            "/usr/local/lib/python3.7/dist-packages/sklearn/svm/_base.py:1208: ConvergenceWarning: Liblinear failed to converge, increase the number of iterations.\n",
            "  ConvergenceWarning,\n"
          ]
        },
        {
          "output_type": "execute_result",
          "data": {
            "text/plain": [
              "VotingClassifier(estimators=[('LR',\n",
              "                              LogisticRegression(C=1, penalty='l1',\n",
              "                                                 solver='liblinear')),\n",
              "                             ('SVM', LinearSVC(C=1, random_state=1)),\n",
              "                             ('DT',\n",
              "                              DecisionTreeClassifier(criterion='entropy',\n",
              "                                                     max_depth=3)),\n",
              "                             ('RF',\n",
              "                              RandomForestClassifier(min_samples_leaf=10,\n",
              "                                                     n_estimators=50, n_jobs=-1,\n",
              "                                                     random_state=1)),\n",
              "                             ('KNN', KNeighborsClassifier(n_neighbors=3))])"
            ]
          },
          "metadata": {},
          "execution_count": 13
        }
      ]
    },
    {
      "cell_type": "code",
      "source": [
        "print('Training accuracy:', vc.score(X_train, y_train))\n",
        "print('Test accuracy:', vc.score(X_test, y_test))\n",
        "\n",
        "y_pred = vc.predict(X_test[:,:])\n",
        "print('Misclassified examples: %d' % (y_test != y_pred).sum())\n",
        "from sklearn.metrics import confusion_matrix\n",
        "confusion_matrix(y_test, y_pred)"
      ],
      "metadata": {
        "colab": {
          "base_uri": "https://localhost:8080/"
        },
        "id": "iRuurieBjcHS",
        "outputId": "b13f640a-5404-4007-c6fe-575111d93796"
      },
      "execution_count": null,
      "outputs": [
        {
          "output_type": "stream",
          "name": "stdout",
          "text": [
            "Training accuracy: 0.8722466960352423\n",
            "Test accuracy: 0.8026315789473685\n",
            "Misclassified examples: 15\n"
          ]
        },
        {
          "output_type": "execute_result",
          "data": {
            "text/plain": [
              "array([[23, 12],\n",
              "       [ 3, 38]])"
            ]
          },
          "metadata": {},
          "execution_count": 12
        }
      ]
    }
  ]
}
